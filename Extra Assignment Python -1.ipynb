{
 "cells": [
  {
   "cell_type": "code",
   "execution_count": 1,
   "id": "ea83e875-4ad7-4cc8-9a22-a6ec9efa4fb4",
   "metadata": {},
   "outputs": [
    {
     "name": "stdout",
     "output_type": "stream",
     "text": [
      "HOPE AI\n"
     ]
    }
   ],
   "source": [
    "print(\"HOPE AI\")"
   ]
  },
  {
   "cell_type": "code",
   "execution_count": 3,
   "id": "3aa48fb7-c3c2-47aa-ba58-6499d7f2b2f6",
   "metadata": {},
   "outputs": [
    {
     "name": "stdin",
     "output_type": "stream",
     "text": [
      "Enter your institute name?: HOPE AI\n"
     ]
    }
   ],
   "source": [
    "Name=(input(\"Enter your institute name?:\"))"
   ]
  },
  {
   "cell_type": "code",
   "execution_count": 5,
   "id": "088a937f-c584-4215-867f-64d528d05744",
   "metadata": {},
   "outputs": [
    {
     "name": "stdin",
     "output_type": "stream",
     "text": [
      "Enter your name: Raj\n",
      "Enter your age: 15\n",
      "Enter your school name: Guru school\n",
      "Enter your degree: B.E CSE\n"
     ]
    }
   ],
   "source": [
    "Name=(input(\"Enter your name:\"))\n",
    "Age=int(input(\"Enter your age:\"))\n",
    "School_name=(input(\"Enter your school name:\"))\n",
    "Degree=(input(\"Enter your degree:\"))"
   ]
  },
  {
   "cell_type": "code",
   "execution_count": 6,
   "id": "db1586fb-f574-43c1-892f-d1c285dd39b1",
   "metadata": {},
   "outputs": [
    {
     "name": "stdout",
     "output_type": "stream",
     "text": [
      "a = 43\n",
      "b = 34\n",
      "add = 77\n"
     ]
    }
   ],
   "source": [
    "a = 43\n",
    "b = 34\n",
    "add = a + b\n",
    "\n",
    "print(\"a =\", a)\n",
    "print(\"b =\", b)\n",
    "print(\"add =\", add)"
   ]
  },
  {
   "cell_type": "code",
   "execution_count": 7,
   "id": "79d2c138-061d-418a-9d92-c7a72b6795ee",
   "metadata": {},
   "outputs": [
    {
     "name": "stdout",
     "output_type": "stream",
     "text": [
      "a = 43\n",
      "b = 34\n",
      "Sub = 9\n"
     ]
    }
   ],
   "source": [
    "a = 43\n",
    "b = 34\n",
    "Sub = a - b\n",
    "\n",
    "print(\"a =\", a)\n",
    "print(\"b =\", b)\n",
    "print(\"Sub =\", Sub)"
   ]
  },
  {
   "cell_type": "code",
   "execution_count": 8,
   "id": "6e0359ea-2a96-47f5-ba96-8c9cb179bf8a",
   "metadata": {},
   "outputs": [
    {
     "name": "stdout",
     "output_type": "stream",
     "text": [
      "a = 63\n",
      "b = 97\n",
      "Mul = 6111\n"
     ]
    }
   ],
   "source": [
    "a = 63\n",
    "b = 97\n",
    "Mul = a * b\n",
    "\n",
    "print(\"a =\", a)\n",
    "print(\"b =\", b)\n",
    "print(\"Mul =\", Mul)"
   ]
  },
  {
   "cell_type": "code",
   "execution_count": 9,
   "id": "ea74cecd-4a12-495b-af10-a667d518fc85",
   "metadata": {},
   "outputs": [
    {
     "name": "stdout",
     "output_type": "stream",
     "text": [
      "a = 76\n",
      "b = 31\n",
      "Float Div = 2.4516129032258065\n"
     ]
    }
   ],
   "source": [
    "a = 76\n",
    "b = 31\n",
    "Float_Div = a / b\n",
    "\n",
    "print(\"a =\", a)\n",
    "print(\"b =\", b)\n",
    "print(\"Float Div =\", Float_Div)"
   ]
  },
  {
   "cell_type": "code",
   "execution_count": 10,
   "id": "ad0ba49b-897f-401a-9320-65386280fc11",
   "metadata": {},
   "outputs": [
    {
     "name": "stdout",
     "output_type": "stream",
     "text": [
      "a = 76\n",
      "b = 31\n",
      "Floor Div = 2\n"
     ]
    }
   ],
   "source": [
    "a = 76\n",
    "b = 31\n",
    "Floor_Div = a // b\n",
    "\n",
    "print(\"a =\", a)\n",
    "print(\"b =\", b)\n",
    "print(\"Floor Div =\", Floor_Div)"
   ]
  },
  {
   "cell_type": "code",
   "execution_count": 11,
   "id": "192451b7-b748-4750-a951-26dcfb73ea4d",
   "metadata": {},
   "outputs": [
    {
     "name": "stdout",
     "output_type": "stream",
     "text": [
      "a = 76\n",
      "b = 31\n",
      "Modulo = 14\n"
     ]
    }
   ],
   "source": [
    "a = 76\n",
    "b = 31\n",
    "Modulo = a % b\n",
    "\n",
    "print(\"a =\", a)\n",
    "print(\"b =\", b)\n",
    "print(\"Modulo =\", Modulo)"
   ]
  },
  {
   "cell_type": "code",
   "execution_count": 12,
   "id": "3193aa2c-ffe9-45c8-a89d-c6dba13162a3",
   "metadata": {},
   "outputs": [
    {
     "name": "stdout",
     "output_type": "stream",
     "text": [
      "a = 4\n",
      "b = 4\n",
      "Power = 256\n"
     ]
    }
   ],
   "source": [
    "a = 4\n",
    "b = 4\n",
    "Power = a ** b\n",
    "\n",
    "print(\"a =\", a)\n",
    "print(\"b =\", b)\n",
    "print(\"Power =\", Power)"
   ]
  }
 ],
 "metadata": {
  "kernelspec": {
   "display_name": "Python [conda env:base] *",
   "language": "python",
   "name": "conda-base-py"
  },
  "language_info": {
   "codemirror_mode": {
    "name": "ipython",
    "version": 3
   },
   "file_extension": ".py",
   "mimetype": "text/x-python",
   "name": "python",
   "nbconvert_exporter": "python",
   "pygments_lexer": "ipython3",
   "version": "3.13.5"
  }
 },
 "nbformat": 4,
 "nbformat_minor": 5
}
