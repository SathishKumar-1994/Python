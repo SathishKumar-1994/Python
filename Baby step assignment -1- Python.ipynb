{
 "cells": [
  {
   "cell_type": "code",
   "execution_count": 9,
   "id": "2e0c1781-6cfe-424a-b5c2-1e6181c1d260",
   "metadata": {},
   "outputs": [
    {
     "name": "stdout",
     "output_type": "stream",
     "text": [
      "Welcome to Assignment-1\n"
     ]
    }
   ],
   "source": [
    "print(\"Welcome to Assignment-1\")"
   ]
  },
  {
   "cell_type": "code",
   "execution_count": 4,
   "id": "541ddfeb-192c-4c70-ba09-11ab98e124b4",
   "metadata": {},
   "outputs": [
    {
     "name": "stdout",
     "output_type": "stream",
     "text": [
      "Num1= 10\n",
      "Num2= 30\n",
      "Add= 40\n"
     ]
    }
   ],
   "source": [
    "num1 = 10\n",
    "num2 = 30\n",
    "add = num1 + num2\n",
    "\n",
    "print(\"Num1=\", num1)\n",
    "print(\"Num2=\", num2)\n",
    "print(\"Add=\", add)"
   ]
  },
  {
   "cell_type": "code",
   "execution_count": 11,
   "id": "e2b4709d-da65-4a0b-835f-50c07bcb284d",
   "metadata": {},
   "outputs": [],
   "source": [
    "# Body mass Index"
   ]
  },
  {
   "cell_type": "code",
   "execution_count": 5,
   "id": "ac9a0e2a-cc69-42ef-a763-1d5f85f9d62f",
   "metadata": {},
   "outputs": [
    {
     "name": "stdin",
     "output_type": "stream",
     "text": [
      "Enter the BMI Index: 34\n"
     ]
    },
    {
     "name": "stdout",
     "output_type": "stream",
     "text": [
      "Very Overweight\n"
     ]
    }
   ],
   "source": [
    "BMI = int(input(\"Enter the BMI Index:\"))\n",
    "if (BMI < 18.5):\n",
    "    print(\"Underweight\")\n",
    "elif (BMI < 25):\n",
    "    print(\"Normal weight\")\n",
    "elif (BMI < 30):\n",
    "    print(\"Overweight\")\n",
    "elif (BMI < 35):\n",
    "    print(\"Very Overweight\")\n",
    "elif (BMI < 40):\n",
    "    print(\"Severely Overweight\")\n",
    "else:\n",
    "    print(\"Morbidly Obese\")"
   ]
  }
 ],
 "metadata": {
  "kernelspec": {
   "display_name": "Python [conda env:base] *",
   "language": "python",
   "name": "conda-base-py"
  },
  "language_info": {
   "codemirror_mode": {
    "name": "ipython",
    "version": 3
   },
   "file_extension": ".py",
   "mimetype": "text/x-python",
   "name": "python",
   "nbconvert_exporter": "python",
   "pygments_lexer": "ipython3",
   "version": "3.13.5"
  }
 },
 "nbformat": 4,
 "nbformat_minor": 5
}
