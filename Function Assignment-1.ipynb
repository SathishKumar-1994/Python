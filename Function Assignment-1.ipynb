{
 "cells": [
  {
   "cell_type": "code",
   "execution_count": 24,
   "id": "68af4303-2bde-46da-bb6d-48aa0e4c3844",
   "metadata": {},
   "outputs": [],
   "source": [
    "def Subfields():\n",
    "    print(\"Sub-fields in AI are:\")\n",
    "    print(\"Machine Learning\")\n",
    "    print(\"Neural Networks\")\n",
    "    print(\"Vision\")\n",
    "    print(\"Robotics\")\n",
    "    print(\"Speech Processing\")\n",
    "    print(\"Natural Language Processing\")"
   ]
  },
  {
   "cell_type": "code",
   "execution_count": 25,
   "id": "e96eba61-7f78-4e96-bbf7-48768f5c44cc",
   "metadata": {},
   "outputs": [
    {
     "name": "stdout",
     "output_type": "stream",
     "text": [
      "Sub-fields in AI are:\n",
      "Machine Learning\n",
      "Neural Networks\n",
      "Vision\n",
      "Robotics\n",
      "Speech Processing\n",
      "Natural Language Processing\n"
     ]
    }
   ],
   "source": [
    "Subfields()"
   ]
  },
  {
   "cell_type": "code",
   "execution_count": 26,
   "id": "dc8fb122-1822-4e5a-bc0d-9ed3c518bda8",
   "metadata": {},
   "outputs": [],
   "source": [
    "def OddEven():\n",
    "    number = int(input(\"Enter a number: \"))\n",
    "    if (number % 2 == 0):\n",
    "        print(\"52452 is Even number\")\n",
    "    else:\n",
    "        print(\"52452 is Odd number\")"
   ]
  },
  {
   "cell_type": "code",
   "execution_count": 27,
   "id": "c80d7d78-449e-4089-aca8-1b368dddc426",
   "metadata": {},
   "outputs": [
    {
     "name": "stdin",
     "output_type": "stream",
     "text": [
      "Enter a number:  52452\n"
     ]
    },
    {
     "name": "stdout",
     "output_type": "stream",
     "text": [
      "52452 is Even number\n"
     ]
    }
   ],
   "source": [
    "OddEven()"
   ]
  },
  {
   "cell_type": "code",
   "execution_count": 28,
   "id": "a2afee6d-bfcb-49e5-be72-465cf42128d8",
   "metadata": {},
   "outputs": [],
   "source": [
    "def Elegible():\n",
    "    gender = input(\"Your Gender: \")\n",
    "    age = int(input(\"Your Age: \"))\n",
    "    if (gender == \"Male\" and age >= 21):\n",
    "        print(\"ELIGIBLE\")\n",
    "    elif (gender == \"Female\" and age >= 18):\n",
    "        print(\"ELIGIBLE\")\n",
    "    else:\n",
    "        print(\"NOT ELIGIBLE\")"
   ]
  },
  {
   "cell_type": "code",
   "execution_count": 29,
   "id": "045dbdd8-c916-4f5a-a2cb-3093dc86e059",
   "metadata": {},
   "outputs": [
    {
     "name": "stdin",
     "output_type": "stream",
     "text": [
      "Your Gender:  Male\n",
      "Your Age:  20\n"
     ]
    },
    {
     "name": "stdout",
     "output_type": "stream",
     "text": [
      "NOT ELIGIBLE\n"
     ]
    }
   ],
   "source": [
    "Elegible()"
   ]
  },
  {
   "cell_type": "code",
   "execution_count": 30,
   "id": "0a4adc14-c656-4b4b-9256-4b2f097d2cba",
   "metadata": {},
   "outputs": [],
   "source": [
    "def percentage():\n",
    "    Subject1 = 98\n",
    "    Subject2 = 87\n",
    "    Subject3 = 95\n",
    "    Subject4 = 95\n",
    "    Subject5 = 93\n",
    "    \n",
    "    Total = Subject1 + Subject2 + Subject3 + Subject4 + Subject5\n",
    "    print(\"Total :\", Total)\n",
    "    \n",
    "    Percent = (Total / 500) * 100\n",
    "    print(\"Percentage :\", Percent)"
   ]
  },
  {
   "cell_type": "code",
   "execution_count": 31,
   "id": "18776722-e604-4f0b-bdf8-9c1779790ae3",
   "metadata": {},
   "outputs": [
    {
     "name": "stdout",
     "output_type": "stream",
     "text": [
      "Total : 468\n",
      "Percentage : 93.60000000000001\n"
     ]
    }
   ],
   "source": [
    "percentage()"
   ]
  },
  {
   "cell_type": "code",
   "execution_count": 22,
   "id": "bd45788b-d302-4bb1-a0c7-9fb844720b17",
   "metadata": {},
   "outputs": [],
   "source": [
    "def triangle():\n",
    "    Height = int(input(\"Height: \"))\n",
    "    Breadth = int(input(\"Breadth: \"))\n",
    "    print(\"Area formula: (Height*Breadth)/2\")\n",
    "    Area = (Height * Breadth) / 2\n",
    "    print(\"Area of Triangle:\", Area)\n",
    "    Height1 = int(input(\"Height1: \"))\n",
    "    Height2 = int(input(\"Height2: \"))\n",
    "    Breadth2 = int(input(\"Breadth: \"))\n",
    "    print(\"Perimeter formula: Height1+Height2+Breadth\")\n",
    "    Perimeter = Height1 + Height2 + Breadth2\n",
    "    print(\"Perimeter of Triangle:\", Perimeter)"
   ]
  },
  {
   "cell_type": "code",
   "execution_count": 23,
   "id": "5f943ced-8eaa-4b64-bfb5-4e0d0a869ca1",
   "metadata": {},
   "outputs": [
    {
     "name": "stdin",
     "output_type": "stream",
     "text": [
      "Height:  32\n",
      "Breadth:  34\n"
     ]
    },
    {
     "name": "stdout",
     "output_type": "stream",
     "text": [
      "Area formula: (Height*Breadth)/2\n",
      "Area of Triangle: 544.0\n"
     ]
    },
    {
     "name": "stdin",
     "output_type": "stream",
     "text": [
      "Height1:  2\n",
      "Height2:  4\n",
      "Breadth:  4\n"
     ]
    },
    {
     "name": "stdout",
     "output_type": "stream",
     "text": [
      "Perimeter formula: Height1+Height2+Breadth\n",
      "Perimeter of Triangle: 10\n"
     ]
    }
   ],
   "source": [
    "triangle()"
   ]
  }
 ],
 "metadata": {
  "kernelspec": {
   "display_name": "Python [conda env:base] *",
   "language": "python",
   "name": "conda-base-py"
  },
  "language_info": {
   "codemirror_mode": {
    "name": "ipython",
    "version": 3
   },
   "file_extension": ".py",
   "mimetype": "text/x-python",
   "name": "python",
   "nbconvert_exporter": "python",
   "pygments_lexer": "ipython3",
   "version": "3.13.5"
  }
 },
 "nbformat": 4,
 "nbformat_minor": 5
}
